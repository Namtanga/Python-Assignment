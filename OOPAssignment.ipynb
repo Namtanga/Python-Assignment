{
  "nbformat": 4,
  "nbformat_minor": 0,
  "metadata": {
    "colab": {
      "provenance": [],
      "authorship_tag": "ABX9TyMWdjfmcfYqupKVjNfCCjof",
      "include_colab_link": true
    },
    "kernelspec": {
      "name": "python3",
      "display_name": "Python 3"
    },
    "language_info": {
      "name": "python"
    }
  },
  "cells": [
    {
      "cell_type": "markdown",
      "metadata": {
        "id": "view-in-github",
        "colab_type": "text"
      },
      "source": [
        "<a href=\"https://colab.research.google.com/github/Namtanga/Python-Assignment/blob/main/OOPAssignment.ipynb\" target=\"_parent\"><img src=\"https://colab.research.google.com/assets/colab-badge.svg\" alt=\"Open In Colab\"/></a>"
      ]
    },
    {
      "cell_type": "code",
      "execution_count": 1,
      "metadata": {
        "colab": {
          "base_uri": "https://localhost:8080/"
        },
        "id": "KZLGJAmZCuCt",
        "outputId": "82f02620-6998-4314-df27-f041b1ab8e6f"
      },
      "outputs": [
        {
          "output_type": "stream",
          "name": "stdout",
          "text": [
            "Hello, my name is John. I am 30 years old and I am male.\n"
          ]
        }
      ],
      "source": [
        "class Person:\n",
        "    def __init__(self, name, age, gender):\n",
        "        self.name = name\n",
        "        self.age = age\n",
        "        self.gender = gender\n",
        "\n",
        "    def introduce(self):\n",
        "        print(f\"Hello, my name is {self.name}. I am {self.age} years old and I am {self.gender}.\")\n",
        "\n",
        "# Create an instance of the Person class\n",
        "person1 = Person(\"John\", 30, \"male\")\n",
        "\n",
        "# Call the introduce method to display the person's information\n",
        "person1.introduce()\n",
        "\n",
        "\n",
        "\n",
        "\n"
      ]
    }
  ]
}