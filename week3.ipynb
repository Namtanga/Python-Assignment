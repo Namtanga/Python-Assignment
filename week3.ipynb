{
  "nbformat": 4,
  "nbformat_minor": 0,
  "metadata": {
    "colab": {
      "provenance": [],
      "authorship_tag": "ABX9TyMQjM+FfJe8HKju1OE30DVT",
      "include_colab_link": true
    },
    "kernelspec": {
      "name": "python3",
      "display_name": "Python 3"
    },
    "language_info": {
      "name": "python"
    }
  },
  "cells": [
    {
      "cell_type": "markdown",
      "metadata": {
        "id": "view-in-github",
        "colab_type": "text"
      },
      "source": [
        "<a href=\"https://colab.research.google.com/github/Namtanga/Python-Assignment/blob/main/week3.ipynb\" target=\"_parent\"><img src=\"https://colab.research.google.com/assets/colab-badge.svg\" alt=\"Open In Colab\"/></a>"
      ]
    },
    {
      "cell_type": "code",
      "execution_count": null,
      "metadata": {
        "id": "NCIC9gzUVCr-"
      },
      "outputs": [],
      "source": [
        "def large_power(base, exponent):\n",
        "    # Calculate the result of base raised to the exponent\n",
        "    result = base ** exponent\n",
        "\n",
        "    # Check if the result is greater than 5000\n",
        "    if result > 5000:\n",
        "        return True\n",
        "    else:\n",
        "        return False\n",
        "\n",
        "# Test the function\n",
        "print(large_power(10, 3))  # Output: False\n",
        "print(large_power(2, 10))  # Output: True\n"
      ]
    },
    {
      "cell_type": "code",
      "source": [],
      "metadata": {
        "id": "xqItA4MMVD5u"
      },
      "execution_count": null,
      "outputs": []
    }
  ]
}