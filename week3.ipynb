{
  "nbformat": 4,
  "nbformat_minor": 0,
  "metadata": {
    "colab": {
      "provenance": [],
      "authorship_tag": "ABX9TyMUCn/uV2RNfsDHkUukVlIq",
      "include_colab_link": true
    },
    "kernelspec": {
      "name": "python3",
      "display_name": "Python 3"
    },
    "language_info": {
      "name": "python"
    }
  },
  "cells": [
    {
      "cell_type": "markdown",
      "metadata": {
        "id": "view-in-github",
        "colab_type": "text"
      },
      "source": [
        "<a href=\"https://colab.research.google.com/github/Namtanga/Python-Assignment/blob/main/week3.ipynb\" target=\"_parent\"><img src=\"https://colab.research.google.com/assets/colab-badge.svg\" alt=\"Open In Colab\"/></a>"
      ]
    },
    {
      "cell_type": "markdown",
      "source": [
        "QUESTION 1"
      ],
      "metadata": {
        "id": "0s6-s1SiXge4"
      }
    },
    {
      "cell_type": "code",
      "execution_count": 1,
      "metadata": {
        "id": "NCIC9gzUVCr-",
        "outputId": "69ae4f55-e8bc-414a-f673-02289fa23b15",
        "colab": {
          "base_uri": "https://localhost:8080/"
        }
      },
      "outputs": [
        {
          "output_type": "stream",
          "name": "stdout",
          "text": [
            "False\n",
            "False\n"
          ]
        }
      ],
      "source": [
        "def large_power(base, exponent):\n",
        "    # Calculate the result of base raised to the exponent\n",
        "    result = base ** exponent\n",
        "\n",
        "    # Check if the result is greater than 5000\n",
        "    if result > 5000:\n",
        "        return True\n",
        "    else:\n",
        "        return False\n",
        "\n",
        "# Test the function\n",
        "print(large_power(10, 3))  # Output: False\n",
        "print(large_power(2, 10))  # Output: True\n"
      ]
    },
    {
      "cell_type": "markdown",
      "source": [
        "QUESTION 2"
      ],
      "metadata": {
        "id": "7SjAtp1PXa1Q"
      }
    },
    {
      "cell_type": "code",
      "source": [
        "def divisible_by_ten(num):\n",
        "    # Calculate the remainder of the input divided by 10\n",
        "    remainder = num % 10\n",
        "\n",
        "    # Check if the remainder is 0\n",
        "    if remainder == 0:\n",
        "        return True\n",
        "    else:\n",
        "        return False\n",
        "\n",
        "# Test the function\n",
        "print(divisible_by_ten(25))   # Output: False\n",
        "print(divisible_by_ten(100))  # Output: True\n"
      ],
      "metadata": {
        "id": "xqItA4MMVD5u",
        "outputId": "ea7214a6-bb10-44b1-f226-3a4d72ef8414",
        "colab": {
          "base_uri": "https://localhost:8080/"
        }
      },
      "execution_count": 2,
      "outputs": [
        {
          "output_type": "stream",
          "name": "stdout",
          "text": [
            "False\n",
            "True\n"
          ]
        }
      ]
    }
  ]
}